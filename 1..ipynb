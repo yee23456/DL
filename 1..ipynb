{
 "cells": [
  {
   "cell_type": "markdown",
   "id": "7bab7984",
   "metadata": {},
   "source": [
    "# 題目\n",
    "## 1.請將提供的.py檔所空缺部分重新填寫使程式碼正常運作\n",
    "## 2.請將準確率維持在0.98以上並連續三次都是\n",
    "## 3.請製作準確率跟損失函數的圖 並解釋"
   ]
  },
  {
   "cell_type": "code",
   "execution_count": null,
   "id": "9946e3db",
   "metadata": {},
   "outputs": [],
   "source": [
    "#匯入圖片資料cifar10\n",
    "from tensorflow.keras.callbacks import EarlyStopping\n",
    "from tensorflow.keras.models import Sequential, Model\n",
    "from tensorflow.keras.layers import Dense, Dropout\n",
    "from tensorflow.keras.utils import to_categorical\n",
    "from tensorflow.keras.layers import Conv2D, MaxPooling2D  \n",
    "from tensorflow.keras.layers import Flatten\n",
    "from tensorflow.keras.datasets import cifar10\n",
    "from tensorflow.keras.models import load_model\n",
    "import numpy as np\n",
    "import pandas as pd\n",
    "import matplotlib.pyplot as plt\n",
    "plt.rcParams['font.sans-serif'] = ['Microsoft YaHei']\n",
    "(train_X, train_y), (test_X, test_y) = cifar10.load_data()\n",
    "train_X = train_X / 255 \n",
    "test_X = test_X / 255\n",
    "train_y2 = to_categorical(train_y)\n",
    "test_y2 = to_categorical(test_y)\n",
    "\n",
    "#建立、訓練與評估模型\n",
    "'''\n",
    "    \n",
    "    在此區補上程式碼使程式運作\n",
    "\n",
    "'''\n",
    "\n",
    "\n",
    "\n",
    "print(model.summary())\n",
    "history = model.fit(train_X, train_y2, validation_data=(test_X, test_y2), epochs=10, batch_size=200, verbose=2)\n",
    "scores = model.evaluate(test_X, test_y2)\n",
    "print(\"正確率\",scores[1])\n",
    "\n",
    "#繪製模組正確率圖與損失圖\n",
    "'''\n",
    "    \n",
    "    在此區補上程式碼使程式運作\n",
    "    \n",
    "'''"
   ]
  }
 ],
 "metadata": {
  "kernelspec": {
   "display_name": "Python 3 (ipykernel)",
   "language": "python",
   "name": "python3"
  },
  "language_info": {
   "codemirror_mode": {
    "name": "ipython",
    "version": 3
   },
   "file_extension": ".py",
   "mimetype": "text/x-python",
   "name": "python",
   "nbconvert_exporter": "python",
   "pygments_lexer": "ipython3",
   "version": "3.9.7"
  }
 },
 "nbformat": 4,
 "nbformat_minor": 5
}
