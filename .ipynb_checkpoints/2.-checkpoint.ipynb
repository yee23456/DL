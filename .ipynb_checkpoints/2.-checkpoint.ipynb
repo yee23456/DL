{
 "cells": [
  {
   "cell_type": "markdown",
   "id": "039aa5b0",
   "metadata": {},
   "source": [
    "# 題目\n",
    "## 1.請將提供的.py檔所空缺部分重新填寫使程式碼正常運作\n",
    "## 2.請將準確率維持在0.98以上並連續三次都是\n",
    "## 3.請製作準確率跟損失函數的圖 並解釋"
   ]
  },
  {
   "cell_type": "code",
   "execution_count": null,
   "id": "27265994",
   "metadata": {},
   "outputs": [],
   "source": [
    "from sklearn import datasets\n",
    "from sklearn.model_selection import train_test_split\n",
    "import tensorflow as tf\n",
    "import numpy as np\n",
    "\n",
    "iris = datasets.load_iris()\n",
    "\n",
    "category=3\n",
    "dim=4\n",
    "x_train , x_test , y_train , y_test = train_test_split(iris.data,iris.target,test_size=0.2)\n",
    "y_train2=tf.keras.utils.to_categorical(y_train, num_classes=(category))\n",
    "y_test2=tf.keras.utils.to_categorical(y_test, num_classes=(category))\n",
    "\n",
    "print(\"x_train[:4]\",x_train[:4])\n",
    "print(\"y_train[:4]\",y_train[:4])\n",
    "print(\"y_train2[:4]\",y_train2[:4])\n",
    "\n",
    "# 建立模型\n",
    "'''\n",
    "    \n",
    "    在此區補上程式碼使程式運作\n",
    "\n",
    "'''\n",
    "#測試\n",
    "\n",
    "score = model.evaluate(x_test, y_test2, batch_size=16)\n",
    "print(\"score:\",score)\n",
    "\n",
    "predict = model.predict(x_test)\n",
    "# print(\"Ans:\",np.argmax(predict[0]),np.argmax(predict[1]),np.argmax(predict[2]),np.argmax(predict[3]))\n",
    "print(\"Ans:\",[np.argmax(predict[i]) for i in range(4)])\n",
    "\n",
    "predict2 = model.predict(x_test) \n",
    "classes_x=np.argmax(predict2,axis=1)\n",
    "# print(\"predict_classes:\",predict2)\n",
    "print(\"y_test\",y_test[:4])\n",
    "\n",
    "#繪製模組正確率圖與損失圖\n",
    "'''\n",
    "    \n",
    "    在此區補上程式碼使程式運作\n",
    "    \n",
    "'''"
   ]
  }
 ],
 "metadata": {
  "kernelspec": {
   "display_name": "Python 3 (ipykernel)",
   "language": "python",
   "name": "python3"
  },
  "language_info": {
   "codemirror_mode": {
    "name": "ipython",
    "version": 3
   },
   "file_extension": ".py",
   "mimetype": "text/x-python",
   "name": "python",
   "nbconvert_exporter": "python",
   "pygments_lexer": "ipython3",
   "version": "3.9.7"
  }
 },
 "nbformat": 4,
 "nbformat_minor": 5
}
