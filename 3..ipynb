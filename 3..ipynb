{
 "cells": [
  {
   "cell_type": "markdown",
   "id": "3fb559c2",
   "metadata": {},
   "source": [
    "# 題目\n",
    "## 請將所提供的檔案分別使用 MLP 跟 RNN 做編寫與分析\n",
    "## 準確率請維持在0.80以上"
   ]
  },
  {
   "cell_type": "code",
   "execution_count": null,
   "id": "68f100a6",
   "metadata": {},
   "outputs": [],
   "source": [
    "from sklearn.model_selection import train_test_split\n",
    "import tensorflow as tf\n",
    "import numpy as np\n",
    "\n",
    "import xlrd\n",
    "import xlwt\n",
    "\n",
    "read=xlrd.open_workbook('weather.xls')\n",
    "data=read.sheets()[0]\n",
    "print(data.nrows)\n",
    "print(data.ncols)\n",
    "\n",
    "t1 = data.col_values(11)[1:]    # \"Humidity9am\"\n",
    "t1 = np.array( t1).astype(np.float)  # list array  to numpy\n",
    "len=t1.shape[0]\n",
    "X=np.reshape(t1, (len,1))\n",
    "X=np.append(X,np.reshape(np.array(data.col_values(12)[1:]).astype(np.float) ,  (len,1)), axis=1)   # Humidity3pm\n",
    "X=np.append(X,np.reshape(np.array(data.col_values(4)[1:]).astype(np.float),  (len,1)), axis=1)     # Sunshine\n",
    "X=np.append(X,np.reshape(np.array(data.col_values(9)[1:]).astype(np.float),  (len,1)), axis=1) #WindSpeed9am     # Sunshine\n",
    "\n",
    "\n",
    "\n",
    "t1 = data.col_values(20)[1:]    # \"Label\"\n",
    "Y = np.array(t1).astype(np.int)  # list array  to numpy\n",
    "category=2\n",
    "dim=X.shape[1]\n",
    "x_train , x_test , y_train , y_test = train_test_split(X,Y,test_size=0.2)\n",
    "y_train2=tf.keras.utils.to_categorical(y_train, num_classes=(category))\n",
    "y_test2=tf.keras.utils.to_categorical(y_test, num_classes=(category))\n",
    "\n",
    "print(\"x_train[:4]\",x_train[:4])\n",
    "print(\"y_train[:4]\",y_train[:4])\n",
    "print(\"y_train2[:4]\",y_train2[:4])\n",
    "\n",
    "# 建立模型\n",
    "'''\n",
    "    \n",
    "    在此區補上程式碼使程式運作\n",
    "\n",
    "'''\n",
    "\n",
    "score = model.evaluate(x_test, y_test2, batch_size=64)\n",
    "print(\"score:\",score)\n",
    "\n",
    "predict2 = model.predict(x_test)\n",
    "print(\"predict_classes:\\n\",np.argmax(predict2[:], axis=1))\n",
    "#print(\"predict_classes:\",predict2)\n",
    "print(\"y_test:\\n\",y_test[:])\n"
   ]
  }
 ],
 "metadata": {
  "kernelspec": {
   "display_name": "Python 3 (ipykernel)",
   "language": "python",
   "name": "python3"
  },
  "language_info": {
   "codemirror_mode": {
    "name": "ipython",
    "version": 3
   },
   "file_extension": ".py",
   "mimetype": "text/x-python",
   "name": "python",
   "nbconvert_exporter": "python",
   "pygments_lexer": "ipython3",
   "version": "3.9.7"
  }
 },
 "nbformat": 4,
 "nbformat_minor": 5
}
